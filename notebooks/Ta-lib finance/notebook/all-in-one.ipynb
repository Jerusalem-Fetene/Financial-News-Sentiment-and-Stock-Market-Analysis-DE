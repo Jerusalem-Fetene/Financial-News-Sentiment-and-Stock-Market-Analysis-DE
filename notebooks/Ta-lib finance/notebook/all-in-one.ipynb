{
 "cells": [
  {
   "cell_type": "markdown",
   "metadata": {},
   "source": [
    "## Portifolio Analysis"
   ]
  },
  {
   "cell_type": "code",
   "execution_count": 9,
   "metadata": {},
   "outputs": [],
   "source": [
    "import os\n",
    "import pandas as pd\n",
    "from pypfopt.efficient_frontier import EfficientFrontier\n",
    "from pypfopt import risk_models\n",
    "from pypfopt import expected_returns"
   ]
  },
  {
   "cell_type": "code",
   "execution_count": 3,
   "metadata": {},
   "outputs": [],
   "source": [
    "file_paths = [\n",
    "    r'C:\\Users\\ephre\\Documents\\Financial News and Stock Price Integration\\data\\yfinance_data\\AAPL_historical_data.csv',\n",
    "    r'C:\\Users\\ephre\\Documents\\Financial News and Stock Price Integration\\data\\yfinance_data\\AMZN_historical_data.csv',\n",
    "    r'C:\\Users\\ephre\\Documents\\Financial News and Stock Price Integration\\data\\yfinance_data\\GOOG_historical_data.csv',\n",
    "    r'C:\\Users\\ephre\\Documents\\Financial News and Stock Price Integration\\data\\yfinance_data\\META_historical_data.csv',\n",
    "    r'C:\\Users\\ephre\\Documents\\Financial News and Stock Price Integration\\data\\yfinance_data\\MSFT_historical_data.csv',\n",
    "    r'C:\\Users\\ephre\\Documents\\Financial News and Stock Price Integration\\data\\yfinance_data\\NVDA_historical_data.csv',\n",
    "    r'C:\\Users\\ephre\\Documents\\Financial News and Stock Price Integration\\data\\yfinance_data\\TSLA_historical_data.csv'\n",
    "]"
   ]
  },
  {
   "cell_type": "code",
   "execution_count": 4,
   "metadata": {},
   "outputs": [],
   "source": [
    "import sys\n",
    "sys.path.append(r'C:\\Users\\ephre\\Documents\\Financial News and Stock Price Integration\\Scripts')\n",
    "from financial_analyzer import FinancialAnalyzer2"
   ]
  },
  {
   "cell_type": "code",
   "execution_count": 5,
   "metadata": {},
   "outputs": [],
   "source": [
    "fa = FinancialAnalyzer2(file_paths)"
   ]
  },
  {
   "cell_type": "code",
   "execution_count": 10,
   "metadata": {},
   "outputs": [
    {
     "name": "stdout",
     "output_type": "stream",
     "text": [
      "Portfolio Weights: {'AAPL_historical_data': 0.0, 'AMZN_historical_data': 0.0843706575071178, 'GOOG_historical_data': 0.2592248252304332, 'META_historical_data': 0.1552366615007858, 'MSFT_historical_data': 0.2050878359237228, 'NVDA_historical_data': 0.0684029723114252, 'TSLA_historical_data': 0.2276770475265151}\n"
     ]
    }
   ],
   "source": [
    "# Calculate portfolio weights\n",
    "portfolio_weights = fa.calculate_portfolio_weights()\n",
    "formatted_weights = {os.path.basename(k): v for k, v in portfolio_weights.items()}\n",
    "print(\"Portfolio Weights:\", formatted_weights)"
   ]
  },
  {
   "cell_type": "code",
   "execution_count": 7,
   "metadata": {},
   "outputs": [
    {
     "name": "stdout",
     "output_type": "stream",
     "text": [
      "Portfolio Return: 0.30148592988170025\n",
      "Portfolio Volatility: 0.28971395650041964\n",
      "Sharpe Ratio: 0.9715994813708345\n"
     ]
    }
   ],
   "source": [
    "# Calculate portfolio performance\n",
    "portfolio_return, portfolio_volatility, sharpe_ratio = fa.calculate_portfolio_performance()\n",
    "print(\"Portfolio Return:\", portfolio_return)\n",
    "print(\"Portfolio Volatility:\", portfolio_volatility)\n",
    "print(\"Sharpe Ratio:\", sharpe_ratio)"
   ]
  }
 ],
 "metadata": {
  "kernelspec": {
   "display_name": ".venv2",
   "language": "python",
   "name": "python3"
  },
  "language_info": {
   "codemirror_mode": {
    "name": "ipython",
    "version": 3
   },
   "file_extension": ".py",
   "mimetype": "text/x-python",
   "name": "python",
   "nbconvert_exporter": "python",
   "pygments_lexer": "ipython3",
   "version": "3.12.4"
  }
 },
 "nbformat": 4,
 "nbformat_minor": 2
}
